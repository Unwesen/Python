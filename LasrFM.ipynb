{
 "cells": [
  {
   "cell_type": "code",
   "execution_count": 1,
   "metadata": {},
   "outputs": [],
   "source": [
    "import pandas as pd\n",
    "import numpy as np\n",
    "import requests, json, webbrowser\n",
    "import matplotlib.pyplot as plt\n",
    "import matplotlib.font_manager as fm\n",
    "import folium\n",
    "from bs4 import BeautifulSoup"
   ]
  },
  {
   "cell_type": "markdown",
   "metadata": {},
   "source": [
    "Здесь я пытаюсь работать с данными с музыкального сайта last.fm"
   ]
  },
  {
   "cell_type": "markdown",
   "metadata": {},
   "source": [
    "API_key = \"907e958ff6166f9938a90b99f76499e1\"\n",
    "page = 1\n",
    "my_format = 'json'"
   ]
  },
  {
   "cell_type": "markdown",
   "metadata": {},
   "source": [
    "Эта функция выбирает лучшие 50 треков из чарта last.fm, затем сортирует их по количеству прослушиваний и выдает топ-10. Если брать сразу топ-10 из чарта, то выходит слишком много Билли Айлиш и Арианы Гранде. Наверное, остатки пользователей last.fm слушают только это."
   ]
  },
  {
   "cell_type": "code",
   "execution_count": 3,
   "metadata": {},
   "outputs": [],
   "source": [
    "def get_top_10_tracks():\n",
    "    url = 'https://ws.audioscrobbler.com/2.0/?method={}&api_key={}&page={}&limit={}&format={}'\n",
    "    method = 'chart.getTopTracks'\n",
    "    limit = 50\n",
    "    artists = []\n",
    "    song_names = []\n",
    "    listeners = []\n",
    "    playcounts = []\n",
    "    request_top_tracks = url.format(method, API_key, page, limit, my_format)\n",
    "    r = requests.get(request_top_tracks).json()\n",
    "    for item in r['tracks']['track']:\n",
    "        artists.append(item['artist']['name'])\n",
    "        song_names.append(item['name'])\n",
    "        listeners.append(item['listeners'])\n",
    "        playcounts.append(item['playcount'])\n",
    "    table = [artists, song_names, listeners, playcounts]\n",
    "    top_tracks = pd.DataFrame(table).transpose()\n",
    "    top_tracks[3] = top_tracks[3].astype(int)\n",
    "    top_tracks = top_tracks.rename(index=str, columns={0: \"Artist\", 1: \"Song\", 2: \"Listeners\", 3: \"Play Counts\"})\n",
    "    top_tracks = top_tracks.sort_values(by = [\"Play Counts\"], ascending = False)\n",
    "    top_tracks = top_tracks.reset_index().shift()[1:]\n",
    "    top_tracks[\"Play Counts\"] = top_tracks[\"Play Counts\"].astype(int)\n",
    "    top_tracks = top_tracks.drop([\"index\"], axis = 1)\n",
    "    return top_tracks[0:10]"
   ]
  },
  {
   "cell_type": "code",
   "execution_count": 4,
   "metadata": {},
   "outputs": [
    {
     "data": {
      "text/html": [
       "<div>\n",
       "<style scoped>\n",
       "    .dataframe tbody tr th:only-of-type {\n",
       "        vertical-align: middle;\n",
       "    }\n",
       "\n",
       "    .dataframe tbody tr th {\n",
       "        vertical-align: top;\n",
       "    }\n",
       "\n",
       "    .dataframe thead th {\n",
       "        text-align: right;\n",
       "    }\n",
       "</style>\n",
       "<table border=\"1\" class=\"dataframe\">\n",
       "  <thead>\n",
       "    <tr style=\"text-align: right;\">\n",
       "      <th></th>\n",
       "      <th>Artist</th>\n",
       "      <th>Song</th>\n",
       "      <th>Listeners</th>\n",
       "      <th>Play Counts</th>\n",
       "    </tr>\n",
       "  </thead>\n",
       "  <tbody>\n",
       "    <tr>\n",
       "      <th>1</th>\n",
       "      <td>The Killers</td>\n",
       "      <td>Mr. Brightside</td>\n",
       "      <td>1981103</td>\n",
       "      <td>18095120</td>\n",
       "    </tr>\n",
       "    <tr>\n",
       "      <th>2</th>\n",
       "      <td>Nirvana</td>\n",
       "      <td>Smells Like Teen Spirit</td>\n",
       "      <td>2066060</td>\n",
       "      <td>16068018</td>\n",
       "    </tr>\n",
       "    <tr>\n",
       "      <th>3</th>\n",
       "      <td>Nirvana</td>\n",
       "      <td>Come as You Are</td>\n",
       "      <td>1821802</td>\n",
       "      <td>13441300</td>\n",
       "    </tr>\n",
       "    <tr>\n",
       "      <th>4</th>\n",
       "      <td>Arctic Monkeys</td>\n",
       "      <td>Do I Wanna Know?</td>\n",
       "      <td>903873</td>\n",
       "      <td>12388577</td>\n",
       "    </tr>\n",
       "    <tr>\n",
       "      <th>5</th>\n",
       "      <td>Toto</td>\n",
       "      <td>Africa</td>\n",
       "      <td>927485</td>\n",
       "      <td>6212673</td>\n",
       "    </tr>\n",
       "    <tr>\n",
       "      <th>6</th>\n",
       "      <td>Ariana Grande</td>\n",
       "      <td>No Tears Left To Cry</td>\n",
       "      <td>225523</td>\n",
       "      <td>5678990</td>\n",
       "    </tr>\n",
       "    <tr>\n",
       "      <th>7</th>\n",
       "      <td>Ariana Grande</td>\n",
       "      <td>Thank U, Next</td>\n",
       "      <td>227627</td>\n",
       "      <td>5095752</td>\n",
       "    </tr>\n",
       "    <tr>\n",
       "      <th>8</th>\n",
       "      <td>Tame Impala</td>\n",
       "      <td>The Less I Know the Better</td>\n",
       "      <td>422950</td>\n",
       "      <td>4686587</td>\n",
       "    </tr>\n",
       "    <tr>\n",
       "      <th>9</th>\n",
       "      <td>Ariana Grande</td>\n",
       "      <td>7 rings</td>\n",
       "      <td>186312</td>\n",
       "      <td>4188218</td>\n",
       "    </tr>\n",
       "    <tr>\n",
       "      <th>10</th>\n",
       "      <td>Kendrick Lamar</td>\n",
       "      <td>HUMBLE.</td>\n",
       "      <td>363161</td>\n",
       "      <td>3989958</td>\n",
       "    </tr>\n",
       "  </tbody>\n",
       "</table>\n",
       "</div>"
      ],
      "text/plain": [
       "            Artist                        Song Listeners  Play Counts\n",
       "1      The Killers              Mr. Brightside   1981103     18095120\n",
       "2          Nirvana     Smells Like Teen Spirit   2066060     16068018\n",
       "3          Nirvana             Come as You Are   1821802     13441300\n",
       "4   Arctic Monkeys            Do I Wanna Know?    903873     12388577\n",
       "5             Toto                      Africa    927485      6212673\n",
       "6    Ariana Grande        No Tears Left To Cry    225523      5678990\n",
       "7    Ariana Grande               Thank U, Next    227627      5095752\n",
       "8      Tame Impala  The Less I Know the Better    422950      4686587\n",
       "9    Ariana Grande                     7 rings    186312      4188218\n",
       "10  Kendrick Lamar                     HUMBLE.    363161      3989958"
      ]
     },
     "execution_count": 4,
     "metadata": {},
     "output_type": "execute_result"
    }
   ],
   "source": [
    "get_top_10_tracks()"
   ]
  },
  {
   "cell_type": "markdown",
   "metadata": {},
   "source": [
    "И как этот топ-10 выглядит на диаграмме. Количество прослушиваний в миллионах."
   ]
  },
  {
   "cell_type": "code",
   "execution_count": 23,
   "metadata": {},
   "outputs": [],
   "source": [
    "title = fm.FontProperties(family='Impact', size=20)\n",
    "labels = fm.FontProperties(family='Times New Roman', size=16)\n",
    "def draw_top_10_tracks():\n",
    "    data = get_top_10_tracks()\n",
    "    artist_song = data['Artist'] + ' - ' + data['Song']\n",
    "    new_data = pd.DataFrame()\n",
    "    new_data = new_data.reindex(artist_song)\n",
    "    play_counts = list(data[\"Play Counts\"] / 1000000)\n",
    "    new_data[\"Play Counts\"] = play_counts\n",
    "    ax = new_data.plot.barh(figsize=[10, 10], width=0.8, color='burlywood')\n",
    "    ax.xaxis.grid(True)\n",
    "    ax.set_title('Last FM Chart Most Played Songs', fontproperties=title)\n",
    "    plt.show()"
   ]
  },
  {
   "cell_type": "code",
   "execution_count": 24,
   "metadata": {},
   "outputs": [
    {
     "data": {
      "image/png": "[encoded data removed]",
      "text/plain": [
       "<Figure size 720x720 with 1 Axes>"
      ]
     },
     "metadata": {},
     "output_type": "display_data"
    }
   ],
   "source": [
    "draw_top_10_tracks()"
   ]
  },
  {
   "cell_type": "markdown",
   "metadata": {},
   "source": [
    "Теперь если вам нравится какая-то песня и хочется найти похожие на нее. В аргументах функции нужно указать исполнителя и название, регистр не имеет значение. На выходе будет топ-10 похожих песен (last.fm как-то высчитывает коэффициент похожести, но методика для меня загадка)."
   ]
  },
  {
   "cell_type": "code",
   "execution_count": 6,
   "metadata": {},
   "outputs": [],
   "source": [
    "def get_top_similar_tracks(artist, track):\n",
    "    url = 'https://ws.audioscrobbler.com/2.0/?method={}&api_key={}&limit={}&artist={}&track={}&format={}'\n",
    "    method = 'track.getSimilar'\n",
    "    limit = 10\n",
    "    artists = []\n",
    "    song_names = []\n",
    "    request_similar_tracks = url.format(method, API_key, limit, artist, track, my_format)\n",
    "    r = requests.get(request_similar_tracks).json()\n",
    "    for item in r['similartracks']['track']:\n",
    "        artists.append(item['artist']['name'])\n",
    "        song_names.append(item['name'])\n",
    "    table = [artists, song_names]\n",
    "    top_tracks = pd.DataFrame(table).transpose()\n",
    "    top_tracks = top_tracks.rename(index=str, columns={0: \"Artist\", 1: \"Song\"})\n",
    "    top_tracks = top_tracks.reset_index().shift()[1:]\n",
    "    top_tracks = top_tracks.drop([\"index\"], axis = 1)\n",
    "    return top_tracks"
   ]
  },
  {
   "cell_type": "code",
   "execution_count": 7,
   "metadata": {},
   "outputs": [
    {
     "data": {
      "text/html": [
       "<div>\n",
       "<style scoped>\n",
       "    .dataframe tbody tr th:only-of-type {\n",
       "        vertical-align: middle;\n",
       "    }\n",
       "\n",
       "    .dataframe tbody tr th {\n",
       "        vertical-align: top;\n",
       "    }\n",
       "\n",
       "    .dataframe thead th {\n",
       "        text-align: right;\n",
       "    }\n",
       "</style>\n",
       "<table border=\"1\" class=\"dataframe\">\n",
       "  <thead>\n",
       "    <tr style=\"text-align: right;\">\n",
       "      <th></th>\n",
       "      <th>Artist</th>\n",
       "      <th>Song</th>\n",
       "    </tr>\n",
       "  </thead>\n",
       "  <tbody>\n",
       "    <tr>\n",
       "      <th>1</th>\n",
       "      <td>Kurt Cobain</td>\n",
       "      <td>rape me</td>\n",
       "    </tr>\n",
       "    <tr>\n",
       "      <th>2</th>\n",
       "      <td>Mudhoney</td>\n",
       "      <td>We Had Love</td>\n",
       "    </tr>\n",
       "    <tr>\n",
       "      <th>3</th>\n",
       "      <td>Nirvana</td>\n",
       "      <td>Even In His Youth</td>\n",
       "    </tr>\n",
       "    <tr>\n",
       "      <th>4</th>\n",
       "      <td>Nirvana</td>\n",
       "      <td>The Eagle Has Landed</td>\n",
       "    </tr>\n",
       "    <tr>\n",
       "      <th>5</th>\n",
       "      <td>Mudhoney</td>\n",
       "      <td>Thirteenth Floor Opening</td>\n",
       "    </tr>\n",
       "    <tr>\n",
       "      <th>6</th>\n",
       "      <td>Green River</td>\n",
       "      <td>Ain't Nothing To Do</td>\n",
       "    </tr>\n",
       "    <tr>\n",
       "      <th>7</th>\n",
       "      <td>Alice in Chains</td>\n",
       "      <td>Killer Is Me</td>\n",
       "    </tr>\n",
       "    <tr>\n",
       "      <th>8</th>\n",
       "      <td>Alice in Chains</td>\n",
       "      <td>Love Hate Love</td>\n",
       "    </tr>\n",
       "    <tr>\n",
       "      <th>9</th>\n",
       "      <td>Skin Yard</td>\n",
       "      <td>Throb</td>\n",
       "    </tr>\n",
       "  </tbody>\n",
       "</table>\n",
       "</div>"
      ],
      "text/plain": [
       "            Artist                      Song\n",
       "1      Kurt Cobain                   rape me\n",
       "2         Mudhoney               We Had Love\n",
       "3          Nirvana         Even In His Youth\n",
       "4          Nirvana      The Eagle Has Landed\n",
       "5         Mudhoney  Thirteenth Floor Opening\n",
       "6      Green River       Ain't Nothing To Do\n",
       "7  Alice in Chains              Killer Is Me\n",
       "8  Alice in Chains            Love Hate Love\n",
       "9        Skin Yard                     Throb"
      ]
     },
     "execution_count": 7,
     "metadata": {},
     "output_type": "execute_result"
    }
   ],
   "source": [
    "get_top_similar_tracks('Nirvana', 'Marijuana')"
   ]
  },
  {
   "cell_type": "markdown",
   "metadata": {},
   "source": [
    "Эта функция открывает страницу с песней, где можно ее послушать с:\n",
    "Я честно пыталась открывать через более используемые сервисы, но пока не получилось."
   ]
  },
  {
   "cell_type": "code",
   "execution_count": null,
   "metadata": {},
   "outputs": [],
   "source": [
    "def play_a_song(artist, track):\n",
    "    url = 'https://ws.audioscrobbler.com/2.0/?method={}&api_key={}&page={}&artist={}&track={}&format={}'\n",
    "    method = 'track.search'\n",
    "    request_find_a_song = url.format(method, API_key, page, artist, track, my_format)\n",
    "    r = requests.get(request_find_a_song).json()\n",
    "    if r['results']['trackmatches']['track'] == []:\n",
    "        print('Could not find such a song')\n",
    "    else:\n",
    "        for item in r['results']['trackmatches']['track']:\n",
    "            true_artist = item['artist']\n",
    "            true_song = item['name']\n",
    "            break\n",
    "        webbrowser.open_new_tab('http://www.last.fm/music/' + true_artist + '/_/' + true_song)"
   ]
  },
  {
   "cell_type": "code",
   "execution_count": null,
   "metadata": {},
   "outputs": [],
   "source": [
    "play_a_song('Nirvana', 'Marijuana')"
   ]
  },
  {
   "cell_type": "markdown",
   "metadata": {},
   "source": [
    "Эта функция находит топ-100 исполнителей по тегу. Тегом может быть жанр ('grunge', 'rock', 'pop'), десятилетие ('80s','90s'), характеристики исполнителя ('female vocalists') или национальная принадлежность ('russian', 'polish')."
   ]
  },
  {
   "cell_type": "code",
   "execution_count": 9,
   "metadata": {},
   "outputs": [],
   "source": [
    "def get_artists_by_tag(tag):\n",
    "    url = 'https://ws.audioscrobbler.com/2.0/?method={}&api_key={}&limit={}&page={}&tag={}&format={}'\n",
    "    method = 'tag.getTopArtists'\n",
    "    limit = 100\n",
    "    request_find_by_tag = url.format(method, API_key, limit, page, tag, my_format)\n",
    "    r = requests.get(request_find_by_tag).json()\n",
    "    artists = []\n",
    "    for item in r['topartists']['artist']:\n",
    "        artists.append(item['name'])\n",
    "    return artists"
   ]
  },
  {
   "cell_type": "code",
   "execution_count": 10,
   "metadata": {},
   "outputs": [
    {
     "data": {
      "text/plain": [
       "['Coldplay',\n",
       " 'Linkin Park',\n",
       " 'Red Hot Chili Peppers',\n",
       " 'David Bowie',\n",
       " 'Foo Fighters',\n",
       " 'Paramore',\n",
       " 'Kings of Leon',\n",
       " 'U2',\n",
       " 'Maroon 5',\n",
       " 'The White Stripes',\n",
       " 'My Chemical Romance',\n",
       " 'Panic! at the Disco',\n",
       " 'Weezer',\n",
       " 'Incubus',\n",
       " 'Evanescence',\n",
       " 'R.E.M.',\n",
       " 'Rage Against the Machine',\n",
       " 'Bruce Springsteen',\n",
       " 'Nickelback',\n",
       " 'Papa Roach',\n",
       " 'Aerosmith',\n",
       " 'OneRepublic',\n",
       " 'Bon Jovi',\n",
       " 'Jimmy Eat World',\n",
       " 'The Velvet Underground',\n",
       " 'The Cranberries',\n",
       " '3 Doors Down',\n",
       " 'Audioslave',\n",
       " 'Tenacious D',\n",
       " 'Garbage',\n",
       " 'The Police',\n",
       " 'Seether',\n",
       " 'The All-American Rejects',\n",
       " 'Simple Plan',\n",
       " 'Dave Matthews Band',\n",
       " 'No Doubt',\n",
       " 'Sting',\n",
       " 'Shinedown',\n",
       " 'The Pretty Reckless',\n",
       " 'Black Rebel Motorcycle Club',\n",
       " 'Lostprophets',\n",
       " 'Anberlin',\n",
       " 'Goo Goo Dolls',\n",
       " 'Manic Street Preachers',\n",
       " 'Lifehouse',\n",
       " 'Stereophonics',\n",
       " 'Counting Crows',\n",
       " 'Coma',\n",
       " 'Bloodhound Gang',\n",
       " 'Alter Bridge',\n",
       " 'Wolfmother',\n",
       " 'Lou Reed',\n",
       " 'Train',\n",
       " 'The Raconteurs',\n",
       " 'Lenny Kravitz',\n",
       " 'Guano Apes',\n",
       " 'Staind',\n",
       " 'Bryan Adams',\n",
       " 'Santana',\n",
       " 'Jack White',\n",
       " 'Hoobastank',\n",
       " 'Poets of the Fall',\n",
       " 'Hey',\n",
       " 'Daughtry',\n",
       " 'happysad',\n",
       " 'Matchbox Twenty',\n",
       " 'Kult',\n",
       " 'Third Eye Blind',\n",
       " 'Toto',\n",
       " 'Creed',\n",
       " 'Jet',\n",
       " 'Switchfoot',\n",
       " 'Relient K',\n",
       " 'Legião Urbana',\n",
       " 'Tokio Hotel',\n",
       " 'The Rasmus',\n",
       " 'Theory of a Deadman',\n",
       " 'INXS',\n",
       " 'Royal Blood',\n",
       " 'Barenaked Ladies',\n",
       " 'Charlie Brown JR.',\n",
       " 'Mark Knopfler',\n",
       " 'Billy Idol',\n",
       " 'Primal Scream',\n",
       " 'Elvis Costello',\n",
       " 'Engenheiros Do Hawaii',\n",
       " 'Patti Smith',\n",
       " 'Electric Six',\n",
       " 'Fresno',\n",
       " 'Böhse Onkelz',\n",
       " 'Hinder',\n",
       " 'Live',\n",
       " 'Puddle of Mudd',\n",
       " 'Chris Cornell',\n",
       " 'Trapt',\n",
       " 'Feeder',\n",
       " 'The Vines',\n",
       " 'Pitty',\n",
       " 'Smash Mouth',\n",
       " 'Harry Styles']"
      ]
     },
     "execution_count": 10,
     "metadata": {},
     "output_type": "execute_result"
    }
   ],
   "source": [
    "get_artists_by_tag('rock')"
   ]
  }
 ],
 "metadata": {
  "kernelspec": {
   "display_name": "Python 3",
   "language": "python",
   "name": "python3"
  },
  "language_info": {
   "codemirror_mode": {
    "name": "ipython",
    "version": 3
   },
   "file_extension": ".py",
   "mimetype": "text/x-python",
   "name": "python",
   "nbconvert_exporter": "python",
   "pygments_lexer": "ipython3",
   "version": "3.6.4"
  }
 },
 "nbformat": 4,
 "nbformat_minor": 2
}
